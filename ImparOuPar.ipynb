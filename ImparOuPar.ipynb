{
  "nbformat": 4,
  "nbformat_minor": 0,
  "metadata": {
    "colab": {
      "provenance": [],
      "authorship_tag": "ABX9TyOew0PBBIdScQlfoURKaPpX",
      "include_colab_link": true
    },
    "kernelspec": {
      "name": "python3",
      "display_name": "Python 3"
    },
    "language_info": {
      "name": "python"
    }
  },
  "cells": [
    {
      "cell_type": "markdown",
      "metadata": {
        "id": "view-in-github",
        "colab_type": "text"
      },
      "source": [
        "<a href=\"https://colab.research.google.com/github/jeovanasantos/Calculo_Media/blob/main/ImparOuPar.ipynb\" target=\"_parent\"><img src=\"https://colab.research.google.com/assets/colab-badge.svg\" alt=\"Open In Colab\"/></a>"
      ]
    },
    {
      "cell_type": "code",
      "execution_count": 3,
      "metadata": {
        "colab": {
          "base_uri": "https://localhost:8080/"
        },
        "id": "kwNM9V92o_Lw",
        "outputId": "7e22a987-6dc3-4b86-e3bb-1eb37c865524"
      },
      "outputs": [
        {
          "output_type": "stream",
          "name": "stdout",
          "text": [
            "Digite um número: 65\n",
            "O número 65 é ímpar.\n"
          ]
        }
      ],
      "source": [
        "#Verificar se um número é par ou ímpar\n",
        "numero = int(input(\"Digite um número: \"))\n",
        "\n",
        "if numero % 2 == 0:\n",
        "    print(f\"O número {numero} é par.\")\n",
        "else:\n",
        "    print(f\"O número {numero} é ímpar.\")"
      ]
    },
    {
      "cell_type": "code",
      "source": [],
      "metadata": {
        "id": "AZDpiySxpkMh"
      },
      "execution_count": null,
      "outputs": []
    }
  ]
}